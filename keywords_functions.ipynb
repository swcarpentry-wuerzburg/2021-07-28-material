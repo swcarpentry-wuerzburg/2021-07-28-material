{
 "cells": [
  {
   "cell_type": "code",
   "execution_count": 1,
   "id": "4d9f04b1",
   "metadata": {},
   "outputs": [
    {
     "name": "stdout",
     "output_type": "stream",
     "text": [
      "1\n",
      "3\n",
      "5\n",
      "7\n",
      "1\n",
      "3\n",
      "5\n",
      "7\n"
     ]
    }
   ],
   "source": [
    "# For loops can be used to repeatedly execute the same code\n",
    "odds = [1, 3, 5, 7]\n",
    "\n",
    "print(odds[0])\n",
    "print(odds[1])\n",
    "print(odds[2])\n",
    "print(odds[3])\n",
    "\n",
    "# Problem: What happens when we add/cut the elements? Better: iterate over the elements of the list\n",
    "# The for loop also needs indented lines after the for to mark the executable part of\n",
    "# the code\n",
    "\n",
    "for number in odds:\n",
    "    print(number)\n",
    "    \n",
    "# The general form is \n",
    "# for variable in collection:"
   ]
  },
  {
   "cell_type": "code",
   "execution_count": 2,
   "id": "17ca0c97",
   "metadata": {},
   "outputs": [
    {
     "name": "stdout",
     "output_type": "stream",
     "text": [
      "There are 3 names in the list.\n",
      "We can also find this via the len() function:  3\n"
     ]
    }
   ],
   "source": [
    "# A variable can be used in each iteration of the loop\n",
    "length = 0\n",
    "types = ['boolean', 'integer', 'string']\n",
    "for name in types:\n",
    "    length = length + 1\n",
    "    \n",
    "print('There are', length, 'types in the list.')\n",
    "print('We can also find this via the len() function: ', len(types))"
   ]
  },
  {
   "cell_type": "code",
   "execution_count": 13,
   "id": "4f35e20c",
   "metadata": {},
   "outputs": [
    {
     "name": "stdout",
     "output_type": "stream",
     "text": [
      "bool\n",
      "integer\n",
      "string\n",
      "after the loop, name is string\n"
     ]
    },
    {
     "data": {
      "text/plain": [
       "'string'"
      ]
     },
     "execution_count": 13,
     "metadata": {},
     "output_type": "execute_result"
    }
   ],
   "source": [
    "# A variable maintains its last value from the loop\n",
    "name = 'bool'\n",
    "for name in ['bool', 'integer', 'string']:\n",
    "    print(name)\n",
    "    \n",
    "print('after the loop, name is', name)"
   ]
  },
  {
   "cell_type": "code",
   "execution_count": 4,
   "id": "6161c776",
   "metadata": {
    "scrolled": true
   },
   "outputs": [
    {
     "name": "stdout",
     "output_type": "stream",
     "text": [
      "range(0, 4)\n",
      "0\n",
      "1\n",
      "2\n",
      "3\n",
      "4\n",
      "5\n",
      "\n",
      "3\n",
      "5\n",
      "7\n",
      "9\n"
     ]
    }
   ],
   "source": [
    "# To create a list containing the numbers from 0 to N we can use the range function\n",
    "for num in range(6):\n",
    "    print(num)\n",
    "\n",
    "print()\n",
    "# The range function is an important tool in python, it can also take more than one\n",
    "# argument to specify start, stop and increment\n",
    "for num in range(3,10,2):\n",
    "    print(num)"
   ]
  },
  {
   "cell_type": "code",
   "execution_count": 5,
   "id": "0f15d398",
   "metadata": {},
   "outputs": [
    {
     "name": "stdout",
     "output_type": "stream",
     "text": [
      "s\n",
      "t\n",
      "r\n",
      "i\n",
      "n\n",
      "g\n"
     ]
    }
   ],
   "source": [
    "# Quick Task: What happens here?\n",
    "word = 'string'\n",
    "for char in word:\n",
    "    print(char)"
   ]
  },
  {
   "cell_type": "code",
   "execution_count": 6,
   "id": "9ef46bf4",
   "metadata": {
    "scrolled": true
   },
   "outputs": [
    {
     "name": "stdout",
     "output_type": "stream",
     "text": [
      "562\n"
     ]
    }
   ],
   "source": [
    "# Task: Write code which calculates and prints the sum of all elements of a list\n",
    "numbers = [124, 402, 36]\n",
    "summed = 0\n",
    "for num in numbers:\n",
    "    summed = summed + num\n",
    "    \n",
    "print(summed)"
   ]
  },
  {
   "cell_type": "code",
   "execution_count": 7,
   "id": "795ff0ea",
   "metadata": {},
   "outputs": [
    {
     "name": "stdout",
     "output_type": "stream",
     "text": [
      "166833\n"
     ]
    }
   ],
   "source": [
    "# Task: Calculate the sum of all multiples of 3 up to 1000\n",
    "sum = 0\n",
    "for num in range(3,1000,3):\n",
    "    sum += num\n",
    "\n",
    "print(sum)"
   ]
  },
  {
   "cell_type": "code",
   "execution_count": 8,
   "id": "85a26b54",
   "metadata": {},
   "outputs": [
    {
     "name": "stdout",
     "output_type": "stream",
     "text": [
      "not greater than 100\n",
      "done\n"
     ]
    }
   ],
   "source": [
    "# If conditionals are used to execute pieces of code based upon a bool statement (True or False)\n",
    "num = 37\n",
    "if num > 100:\n",
    "    print('greater than 100')\n",
    "else:\n",
    "    print('not greater than 100')\n",
    "print('done')\n"
   ]
  },
  {
   "cell_type": "code",
   "execution_count": 9,
   "id": "1568d9dc",
   "metadata": {},
   "outputs": [
    {
     "name": "stdout",
     "output_type": "stream",
     "text": [
      "-3 is negative\n"
     ]
    }
   ],
   "source": [
    "# The 'elif' statement can be used to chain together if statements (else if)\n",
    "num = -3\n",
    "\n",
    "if num > 0:\n",
    "    print(num, 'is positive')\n",
    "elif num == 0:\n",
    "    print(num, 'is zero')\n",
    "else:\n",
    "    print(num, 'is negative')\n"
   ]
  },
  {
   "cell_type": "code",
   "execution_count": 10,
   "id": "761f06a7",
   "metadata": {},
   "outputs": [
    {
     "data": {
      "text/plain": [
       "False"
      ]
     },
     "execution_count": 10,
     "metadata": {},
     "output_type": "execute_result"
    }
   ],
   "source": [
    "# Note on comparison operators, we have already seen before the '==' as the comparing equal sign\n",
    "# The other commonly used comparing operators are:\n",
    "\n",
    "1 == 2\n",
    "\n",
    "#>  : greater than\n",
    "#<  : less than\n",
    "#== : equal to\n",
    "#!= : does not equal\n",
    "#>= : greater than or equal to\n",
    "#<= : less than or equal to"
   ]
  },
  {
   "cell_type": "code",
   "execution_count": 11,
   "id": "bb7e35d5",
   "metadata": {},
   "outputs": [
    {
     "name": "stdout",
     "output_type": "stream",
     "text": [
      "at least one part is false\n",
      "at least one test is true\n"
     ]
    }
   ],
   "source": [
    "# We can combine booleans using 'and' or 'or'\n",
    "# For 'and' both boolean need to be true\n",
    "if (1 > 0) and (-1 == 0):\n",
    "    print('both parts are true')\n",
    "else:\n",
    "    print('at least one part is false')\n",
    "\n",
    "# While for 'or' only one of the two needs to be true    \n",
    "if (1 < 0) or (-1 == 0):\n",
    "    print('at least one test is true')"
   ]
  },
  {
   "cell_type": "code",
   "execution_count": 25,
   "id": "c451fd27",
   "metadata": {},
   "outputs": [
    {
     "name": "stdout",
     "output_type": "stream",
     "text": [
      "False\n",
      "False\n"
     ]
    }
   ],
   "source": [
    "# Task: Write a piece of code which returns the absolute value of a number\n",
    "\n",
    "\n",
    "a = 5\n",
    "b = 10\n",
    "\n",
    "diff = a-b\n",
    "\n",
    "if diff < 0:\n",
    "    diff = diff*(-1)\n",
    "\n",
    "# Task: Write a condition that prints True if a is within 10% of b, False otherwise, a,b,from Real+\n",
    "\n",
    "if diff < 0.1 * b:\n",
    "    print('True')\n",
    "else:\n",
    "    print('False')\n",
    "    \n",
    "print(abs(a - b) < 0.1 * abs(b))"
   ]
  },
  {
   "cell_type": "code",
   "execution_count": 13,
   "id": "2a8945e7",
   "metadata": {},
   "outputs": [
    {
     "name": "stdout",
     "output_type": "stream",
     "text": [
      "[12, 15, 16, 19, 24, 25, 27]\n",
      "[]\n"
     ]
    }
   ],
   "source": [
    "# Task: Sort a List of numbers into a list of all numbers <10 and >10\n",
    "# It might be helpfull to use the append function to add elements to the end of an existing list\n",
    "input = [12,15,16,19,24,25,27]\n",
    "evens = []\n",
    "odds = []\n",
    "for num in input:\n",
    "    if(num>10):\n",
    "        evens.append(num)\n",
    "    else:\n",
    "        odds.append(num)\n",
    "    \n",
    "print(evens)\n",
    "print(odds)"
   ]
  },
  {
   "cell_type": "code",
   "execution_count": 14,
   "id": "1321aeb4",
   "metadata": {},
   "outputs": [],
   "source": [
    "# Functions"
   ]
  },
  {
   "cell_type": "code",
   "execution_count": 15,
   "id": "caab9447",
   "metadata": {
    "scrolled": true
   },
   "outputs": [
    {
     "name": "stdout",
     "output_type": "stream",
     "text": [
      "kg:  40   g:  40000\n"
     ]
    }
   ],
   "source": [
    "# Expanding upon the use of function we remember the conversion example\n",
    "mass_in_kg = 40\n",
    "mass_in_g = mass_in_kg*1000\n",
    "print(\"kg: \", mass_in_kg, \"  g: \", mass_in_g)"
   ]
  },
  {
   "cell_type": "code",
   "execution_count": 16,
   "id": "68b89cd5",
   "metadata": {},
   "outputs": [
    {
     "name": "stdout",
     "output_type": "stream",
     "text": [
      "0.052\n"
     ]
    }
   ],
   "source": [
    "# Here we want to define a new function called 'g_to_kg' which converts masses\n",
    "# The def-Keyword designates a new function definition.\n",
    "# Within the '()' We can specify the function arguments which are expected.\n",
    "# In python, everything belonging to the function has to be indented\n",
    "\n",
    "def g_to_kg(mass_in_g):\n",
    "    return mass_in_g/1000\n",
    "\n",
    "print(g_to_kg(52))\n",
    "\n",
    "# We can call functions within functions, we do not need a return statement\n",
    "def say_hello():\n",
    "    print(\"Hello\")\n",
    "\n"
   ]
  },
  {
   "cell_type": "code",
   "execution_count": 17,
   "id": "d5a83e13",
   "metadata": {},
   "outputs": [
    {
     "name": "stdout",
     "output_type": "stream",
     "text": [
      "1.0\n",
      "0.45454545454545453\n"
     ]
    }
   ],
   "source": [
    "# We can save the output of functions in variables and use the functions in calculations:\n",
    "mass_in_g = 1000\n",
    "mass_in_kg = g_to_kg(mass_in_g)\n",
    "print(mass_in_kg)\n",
    "\n",
    "mass_in_lb = g_to_kg(mass_in_g)/2.2\n",
    "print(mass_in_lb)"
   ]
  },
  {
   "cell_type": "code",
   "execution_count": 18,
   "id": "15661a85",
   "metadata": {},
   "outputs": [
    {
     "name": "stdout",
     "output_type": "stream",
     "text": [
      "0.0022727272727272726\n"
     ]
    }
   ],
   "source": [
    "# Variable defined in functions go out of scopes when the function exits\n",
    "\n",
    "def g_to_lb(mass_in_g):\n",
    "    temp_mass = g_to_kg(mass_in_g)\n",
    "    return temp_mass/2.2\n",
    "\n",
    "# This will throw an error, result is not known outside the function\n",
    "g_to_lb(3)\n",
    "#? print(temp_mass)\n",
    "print(g_to_lb(5))"
   ]
  },
  {
   "cell_type": "code",
   "execution_count": 19,
   "id": "9ac617ff",
   "metadata": {},
   "outputs": [
    {
     "name": "stdout",
     "output_type": "stream",
     "text": [
      "256\n"
     ]
    }
   ],
   "source": [
    "# Task: Write a function which takes 2 integers and calculates the power of the first to the second\n",
    "def power(base, exponent):\n",
    "    result = 1;\n",
    "    for ii in range(exponent):\n",
    "        result *= base\n",
    "    return result\n",
    "    \n",
    "print(power(4,4))"
   ]
  },
  {
   "cell_type": "code",
   "execution_count": 20,
   "id": "67e4d7b2",
   "metadata": {},
   "outputs": [],
   "source": [
    "# Task: Write a function which takes a number and a strings and converts from gram to either kg or lb\n",
    "def convert_from_g(value, unit_to):\n",
    "    if(unit_to == 'kg'):\n",
    "        return g_to_kg(value)\n",
    "    elif(unit_to == 'lb'):\n",
    "        return g_to_lb(value)\n",
    "    else:\n",
    "        print(\"Invalid unit in input\")"
   ]
  },
  {
   "cell_type": "code",
   "execution_count": 21,
   "id": "93f9a2c7",
   "metadata": {
    "scrolled": true
   },
   "outputs": [
    {
     "name": "stdout",
     "output_type": "stream",
     "text": [
      "6\n"
     ]
    },
    {
     "data": {
      "text/plain": [
       "6"
      ]
     },
     "execution_count": 21,
     "metadata": {},
     "output_type": "execute_result"
    }
   ],
   "source": [
    "# Task: Find the position of the smallest element in a given list\n",
    "value = [3,4,5,6,7,8,2]\n",
    "def smallest_element(input_list):\n",
    "    smallest_idx = 0;\n",
    "    for i in range(len(input_list)):\n",
    "        if input_list[i] < input_list[smallest_idx]:\n",
    "            smallest_idx = i;\n",
    "    return smallest_idx\n",
    "\n",
    "print(smallest_element(value))\n",
    "\n",
    "value.index(min(value))"
   ]
  },
  {
   "cell_type": "code",
   "execution_count": 1,
   "id": "4b545c2d",
   "metadata": {},
   "outputs": [
    {
     "name": "stdout",
     "output_type": "stream",
     "text": [
      "no parameters:\n",
      "a: 1 b: 2 c: 3\n",
      "one parameter:\n",
      "a: 55 b: 2 c: 3\n",
      "two parameters:\n",
      "a: 55 b: 66 c: 3\n"
     ]
    }
   ],
   "source": [
    "# If there ist time:\n",
    "# A function argument can be set to a default in the definition using '='\n",
    "# If no other value is given this default will be assumed\n",
    "def display(a=1, b=2, c=3):\n",
    "    print('a:', a, 'b:', b, 'c:', c)\n",
    "\n",
    "print('no parameters:')\n",
    "display()\n",
    "print('one parameter:')\n",
    "display(55)\n",
    "print('two parameters:')\n",
    "display(55, 66)\n",
    "\n",
    "# We can subvert the usual left to right filling of parameters by explicitely setting them\n",
    "print('only setting the value of c')\n",
    "display(c=77)\n",
    "\n",
    "\n",
    "# Many library functions have default parameters in most arguments"
   ]
  },
  {
   "cell_type": "code",
   "execution_count": 3,
   "id": "11ccb490",
   "metadata": {},
   "outputs": [
    {
     "ename": "SyntaxError",
     "evalue": "non-default argument follows default argument (1136574327.py, line 2)",
     "output_type": "error",
     "traceback": [
      "\u001b[0;36m  File \u001b[0;32m\"/tmp/ipykernel_3223/1136574327.py\"\u001b[0;36m, line \u001b[0;32m2\u001b[0m\n\u001b[0;31m    def numbers(one, two=2, three, four=4):\u001b[0m\n\u001b[0m                                   ^\u001b[0m\n\u001b[0;31mSyntaxError\u001b[0m\u001b[0;31m:\u001b[0m non-default argument follows default argument\n"
     ]
    }
   ],
   "source": [
    "# Task: What do you expect to be printed?\n",
    "def numbers(one, two=2, three, four=4):\n",
    "    n = str(one) + str(two) + str(three) + str(four)\n",
    "    return n\n",
    "\n",
    "#print(numbers(1, three=3))"
   ]
  },
  {
   "cell_type": "code",
   "execution_count": 12,
   "id": "8c0715b0",
   "metadata": {},
   "outputs": [
    {
     "name": "stdout",
     "output_type": "stream",
     "text": [
      "[0.0, 0.2545454545454545, 1.0, 0.41818181818181815]\n",
      "Help on function rescale in module __main__:\n",
      "\n",
      "rescale(input_array)\n",
      "    Takes an array as input, and returns a corresponding array scaled so\n",
      "    that 0 corresponds to the minimum and 1 to the maximum value of the input array.\n",
      "    \n",
      "    Examples:\n",
      "    >>> rescale(range(0,10))\n",
      "    array([ 0.        ,  0.11111111,  0.22222222,  0.33333333,  0.44444444,\n",
      "           0.55555556,  0.66666667,  0.77777778,  0.88888889,  1.        ])\n",
      "\n"
     ]
    }
   ],
   "source": [
    "# Help messages for custom functions\n",
    "\n",
    "def rescale(input_array):\n",
    "    \"\"\"Takes an array as input, and returns a corresponding array scaled so\n",
    "    that 0 corresponds to the minimum and 1 to the maximum value of the input array.\n",
    "\n",
    "    Examples:\n",
    "    >>> rescale(range(0,10))\n",
    "    array([ 0.        ,  0.11111111,  0.22222222,  0.33333333,  0.44444444,\n",
    "           0.55555556,  0.66666667,  0.77777778,  0.88888889,  1.        ])\n",
    "    \"\"\"\n",
    "    output_array = []\n",
    "    L = min(input_array)\n",
    "    H = max(input_array)\n",
    "    for i in input_array:\n",
    "        output_array.append((i - L) / (H - L))\n",
    "    return output_array\n",
    "\n",
    "print(rescale([1,2.4,6.5,3.3]))\n",
    "\n",
    "# We can now obtain our own custom help message\n",
    "help(rescale)"
   ]
  },
  {
   "cell_type": "code",
   "execution_count": 22,
   "id": "702739e0",
   "metadata": {},
   "outputs": [],
   "source": [
    "# google\n",
    "# https://docs.python.org/3/\n",
    "# stackoverflow"
   ]
  },
  {
   "cell_type": "code",
   "execution_count": 23,
   "id": "e8b8d153",
   "metadata": {},
   "outputs": [],
   "source": [
    "# GET THE DATA! Download and unpack"
   ]
  }
 ],
 "metadata": {
  "kernelspec": {
   "display_name": "Python 3 (ipykernel)",
   "language": "python",
   "name": "python3"
  },
  "language_info": {
   "codemirror_mode": {
    "name": "ipython",
    "version": 3
   },
   "file_extension": ".py",
   "mimetype": "text/x-python",
   "name": "python",
   "nbconvert_exporter": "python",
   "pygments_lexer": "ipython3",
   "version": "3.9.6"
  }
 },
 "nbformat": 4,
 "nbformat_minor": 5
}
