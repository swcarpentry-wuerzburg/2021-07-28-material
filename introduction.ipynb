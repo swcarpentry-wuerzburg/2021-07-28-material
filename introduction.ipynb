{
 "cells": [
  {
   "cell_type": "code",
   "execution_count": 1,
   "id": "a4478f25",
   "metadata": {},
   "outputs": [],
   "source": [
    "# Lines starting with a # character are comments, these are ignored by the Python interpreter\n"
   ]
  },
  {
   "cell_type": "code",
   "execution_count": 2,
   "id": "23aa828e",
   "metadata": {},
   "outputs": [
    {
     "data": {
      "text/plain": [
       "38"
      ]
     },
     "execution_count": 2,
     "metadata": {},
     "output_type": "execute_result"
    }
   ],
   "source": [
    "# Interactive Python can be used as a standard calculator\n",
    "8+6*5"
   ]
  },
  {
   "cell_type": "code",
   "execution_count": 3,
   "id": "3df1829c",
   "metadata": {},
   "outputs": [
    {
     "data": {
      "text/plain": [
       "20000"
      ]
     },
     "execution_count": 3,
     "metadata": {},
     "output_type": "execute_result"
    }
   ],
   "source": [
    "# We can assign this data also to variables using the \"=\" sign\n",
    "mass_in_kg = 20\n",
    "# Now we can use this in calculations\n",
    "mass_in_g = mass_in_kg * 1000\n",
    "mass_in_g"
   ]
  },
  {
   "cell_type": "code",
   "execution_count": 5,
   "id": "9034b8b9",
   "metadata": {},
   "outputs": [],
   "source": [
    "# Be aware of the different types of variables available in python and the operations possible with each:\n",
    "# Integer: (Represents natural numbers)\n",
    "n_weights = 100\n",
    "# Floating point numbers: (represents real numbers (to certain accuracy))\n",
    "avg_mass = 85.6\n",
    "# strings:\n",
    "unit = \"kg\"\n",
    "alternative_unit = 'lb'\n",
    "# bools:\n",
    "is_present = True\n",
    "# And many more (arrays, functions, custom classes ...)"
   ]
  },
  {
   "cell_type": "code",
   "execution_count": 6,
   "id": "6c9166df",
   "metadata": {
    "scrolled": true
   },
   "outputs": [
    {
     "name": "stdout",
     "output_type": "stream",
     "text": [
      "20000\n",
      "Type of n_weights:  <class 'int'>\n",
      "<class 'float'>\n",
      "<class 'str'>\n"
     ]
    }
   ],
   "source": [
    "# Additionally to variable we have functions in python, the simplest of which are the built-in functions\n",
    "print(mass_in_g)\n",
    "\n",
    "type(n_weights)\n",
    "\n",
    "# Here 'print' is the name of the function, the '()' designates it to be a callable object\n",
    "# and the 'mass_in_lb' is the function argument. The number and type of arguments a \n",
    "# function expects is given in its definition (look it up)\n",
    "# More on functions in the second part\n",
    "\n",
    "print('Type of n_weights: ',type(n_weights))\n",
    "print(type(avg_mass))\n",
    "print(type(unit))\n"
   ]
  },
  {
   "cell_type": "code",
   "execution_count": 7,
   "id": "300561c8",
   "metadata": {},
   "outputs": [
    {
     "name": "stdout",
     "output_type": "stream",
     "text": [
      "185.6\n",
      "<class 'str'>\n",
      "85.6kg\n",
      "<class 'float'>\n"
     ]
    }
   ],
   "source": [
    "# Combinations of different types of variables are sometimes not allowed\n",
    "print(n_weights+avg_mass)\n",
    "\n",
    "#? print(avg_mass+unit)\n",
    "print(type(str(avg_mass)))\n",
    "print(str(avg_mass)+unit)\n",
    "\n",
    "# What is the type of avg_age now?\n",
    "print(type(avg_mass))"
   ]
  },
  {
   "cell_type": "code",
   "execution_count": 8,
   "id": "bcd4ef87",
   "metadata": {
    "scrolled": true
   },
   "outputs": [
    {
     "name": "stdout",
     "output_type": "stream",
     "text": [
      "a:  <class 'str'> Task 1\n",
      "b:  <class 'int'> 3\n",
      "c:  <class 'float'> 4.5\n",
      "d:  <class 'bool'> False\n",
      "e:  <class 'str'> 4\n",
      "f:  <class 'float'> 7.5\n",
      "g:  <class 'float'> 4.5\n",
      "h:  <class 'str'> Task 14\n",
      "i:  <class 'str'> Task 1Task 1\n",
      "j:  <class 'int'> 4\n"
     ]
    }
   ],
   "source": [
    "# Task: What is the type of the following variables? What will be their value?\n",
    "#! Style note: these variables are nondescript for the exercise,\n",
    "#! a-j are usually not good variable names\n",
    "a = 'Task 1'\n",
    "b,c = 3,4.5\n",
    "d = False\n",
    "e = '4'\n",
    "\n",
    "f = b+c\n",
    "g = d+c\n",
    "h = a+e\n",
    "i = a+a\n",
    "j = int(c)\n",
    "\n",
    "print('a: ', type(a), a)\n",
    "print('b: ', type(b), b)\n",
    "print('c: ', type(c), c)\n",
    "print('d: ', type(d), d)\n",
    "print('e: ', type(e), e)\n",
    "print('f: ', type(f), f)\n",
    "print('g: ', type(g), g)\n",
    "print('h: ', type(h), h)\n",
    "print('i: ', type(i), i)\n",
    "print('j: ', type(j), j)\n",
    "\n",
    "# Talk about the comma-double assignment"
   ]
  },
  {
   "cell_type": "code",
   "execution_count": 17,
   "id": "aafee1bd",
   "metadata": {},
   "outputs": [
    {
     "name": "stdout",
     "output_type": "stream",
     "text": [
      "<class 'list'>\n",
      "Odd numbers are:  [1, 3, 5, 7, 9]\n",
      "First element:  1\n",
      "Fourth element:  7\n",
      "Fifth element:  9\n",
      "Last element:  9\n",
      "evens is originally: [2, 5, 6, 8]\n",
      "final value of evens: [2, 4, 6, 8]\n"
     ]
    },
    {
     "data": {
      "text/plain": [
       "[3]"
      ]
     },
     "execution_count": 17,
     "metadata": {},
     "output_type": "execute_result"
    }
   ],
   "source": [
    "# One last type we want to examine are lists, here at least on a basic level\n",
    "# Advanced list/array operations will be in the numpy-array part\n",
    "\n",
    "# A list is a collection of variables:\n",
    "odds = [1,3,5,7,9]\n",
    "print(type(odds))\n",
    "print(\"Odd numbers are: \", odds)\n",
    "\n",
    "\n",
    "# We can access specific elements with the '[]' operator, negative numbers count from the rear\n",
    "print(\"First element: \", odds[0])\n",
    "print(\"Fourth element: \", odds[3])\n",
    "print(\"Fifth element: \", odds[4])\n",
    "print(\"Last element: \", odds[-1])\n",
    "\n",
    "# We can also assign to a specific place in the list using the '[]' operator\n",
    "evens = [2, 5, 6, 8]\n",
    "print('evens is originally:', evens)\n",
    "evens[1] = 4\n",
    "print('final value of evens:', evens)\n"
   ]
  },
  {
   "cell_type": "code",
   "execution_count": 10,
   "id": "51d380a5",
   "metadata": {},
   "outputs": [
    {
     "name": "stdout",
     "output_type": "stream",
     "text": [
      "The common types are: ['ints', 'booleans', 'strings', 'lists']\n",
      "The common types are: ['integers', 'booleans', 'strings', 'lists']\n"
     ]
    }
   ],
   "source": [
    "# While normal variables are passed by value....\n",
    "\n",
    "# Be aware of the by-reference nature of list assignments, assigning the list to another variable points to the\n",
    "# same list data in memory\n",
    "types = ['integers', 'booleans', 'strings', 'lists']\n",
    "my_types = types\n",
    "types[0] = 'ints'\n",
    "print('The common types are:', my_types)\n",
    "\n",
    "# We can however enforce a copy of a list by typecasting it explicitely using 'list()'\n",
    "types = ['integers', 'booleans', 'strings', 'lists']\n",
    "my_types = list(types)\n",
    "types[0] = 'ints'\n",
    "print('The common types are:', my_types)\n"
   ]
  },
  {
   "cell_type": "code",
   "execution_count": 12,
   "id": "e3876d40",
   "metadata": {},
   "outputs": [
    {
     "name": "stdout",
     "output_type": "stream",
     "text": [
      "[10, 12.5, 'boolean']\n",
      "[10, 5, 4, 3, 10, 5, 4, 3]\n",
      "[10, 5, 4, 3, 10, 5, 4, 3]\n"
     ]
    }
   ],
   "source": [
    "# Lists can be heterogeneous, the datatype of the elements can differ\n",
    "value = [10, 12.5, 'boolean']\n",
    "print(value)\n",
    "\n",
    "# The operators + and * also work for lists\n",
    "sample = [10,5,4,3]\n",
    "\n",
    "print(sample+sample)\n",
    "print(sample*2)"
   ]
  },
  {
   "cell_type": "code",
   "execution_count": 13,
   "id": "570e8afd",
   "metadata": {},
   "outputs": [
    {
     "name": "stdout",
     "output_type": "stream",
     "text": [
      "n\n",
      "integersintegers\n"
     ]
    }
   ],
   "source": [
    "# Strings share many operations with lists, but are not mutable (strings are copied when assigned)\n",
    "s = 'integers'\n",
    "print(s[1])\n",
    "print(2*s)"
   ]
  },
  {
   "cell_type": "code",
   "execution_count": 14,
   "id": "fb737ced",
   "metadata": {},
   "outputs": [
    {
     "name": "stdout",
     "output_type": "stream",
     "text": [
      "[5, 'x0', 0, 5, 5, 'x0', 0, 5]\n"
     ]
    }
   ],
   "source": [
    "# Task: What will be printed by the following set of instructions?\n",
    "#! Style note: these variables are nondescript for the exercise, A-D are usually not good variable names\n",
    "\n",
    "A = 0\n",
    "B = 'x'\n",
    "\n",
    "C = [A, B+str(A)]\n",
    "\n",
    "A = 5\n",
    "C = C+C\n",
    "\n",
    "C[0] = A\n",
    "D = C\n",
    "D[3] = A\n",
    "\n",
    "print(2*C)"
   ]
  }
 ],
 "metadata": {
  "kernelspec": {
   "display_name": "Python 3 (ipykernel)",
   "language": "python",
   "name": "python3"
  },
  "language_info": {
   "codemirror_mode": {
    "name": "ipython",
    "version": 3
   },
   "file_extension": ".py",
   "mimetype": "text/x-python",
   "name": "python",
   "nbconvert_exporter": "python",
   "pygments_lexer": "ipython3",
   "version": "3.9.6"
  }
 },
 "nbformat": 4,
 "nbformat_minor": 5
}
